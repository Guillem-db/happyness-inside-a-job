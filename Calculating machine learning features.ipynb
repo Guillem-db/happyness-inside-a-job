{
 "cells": [
  {
   "cell_type": "code",
   "execution_count": 1,
   "metadata": {
    "collapsed": true,
    "deletable": true,
    "editable": true
   },
   "outputs": [],
   "source": [
    "import numpy as np\n",
    "import pandas as pd"
   ]
  },
  {
   "cell_type": "code",
   "execution_count": 5,
   "metadata": {
    "collapsed": false
   },
   "outputs": [],
   "source": [
    "inters = pd.read_csv('clean_data/interactions_ml.csv')\n",
    "votes = pd.read_csv('clean_data/votes_ml.csv')\n",
    "comments = pd.read_csv('clean_data/comments_ml.csv')\n",
    "lastpart = pd.read_csv('clean_data/lastpart_ml.csv')\n",
    "users_index = pd.read_csv('clean_data/target.csv')"
   ]
  },
  {
   "cell_type": "markdown",
   "metadata": {
    "deletable": true,
    "editable": true
   },
   "source": [
    "# 1. Employee features"
   ]
  },
  {
   "cell_type": "markdown",
   "metadata": {
    "deletable": true,
    "editable": true
   },
   "source": [
    "The are the features that realte to absolute employee metrics. "
   ]
  },
  {
   "cell_type": "markdown",
   "metadata": {
    "deletable": true,
    "editable": true
   },
   "source": [
    "## 2.1 vote features"
   ]
  },
  {
   "cell_type": "code",
   "execution_count": 6,
   "metadata": {
    "collapsed": false,
    "deletable": true,
    "editable": true
   },
   "outputs": [],
   "source": [
    "\n",
    "vote_feats = votes.groupby(['uid'])['vote'].agg({'votes_1': lambda x: len(x[x==1]),\n",
    "                                                        'votes_2': lambda x: len(x[x==2]),\n",
    "                                                        'votes_3': lambda x: len(x[x==3]),\n",
    "                                                        'votes_4': lambda x: len(x[x==4]),\n",
    "                                                        'votes_mean': lambda x: x.mean(),\n",
    "                                                        'votes_std': lambda x: x.std(),\n",
    "                                                       'votes_num': lambda x: len(x),\n",
    "                                                       }).copy().fillna(0)"
   ]
  },
  {
   "cell_type": "markdown",
   "metadata": {
    "deletable": true,
    "editable": true
   },
   "source": [
    "## 2.2 Comments features"
   ]
  },
  {
   "cell_type": "code",
   "execution_count": 7,
   "metadata": {
    "collapsed": false,
    "deletable": true,
    "editable": true,
    "scrolled": true
   },
   "outputs": [],
   "source": [
    "likes_feats = comments.groupby(['uid'])['likes'].agg({\n",
    "                                          'likes_mean': lambda x: len(x),\n",
    "                                          'likes_std': lambda x: x.std(),\n",
    "                                          'likes_sum': lambda x: x.sum(),\n",
    "                                                       })\n",
    "dislikes_feats = comments.groupby(['uid'])['dislikes'].agg({\n",
    "                                          'dislikes_mean': lambda x: len(x),\n",
    "                                          'dislikes_std': lambda x: x.std(),\n",
    "                                          'dislikes_sum': lambda x: x.sum(),\n",
    "                                                       })\n",
    "coms_feats = comments.dropna().groupby(['uid'])['comment'].agg({'com_num': lambda x: len(x),\n",
    "                                                             'com_mean': lambda x: x.apply(len).mean(),\n",
    "                                                             'com_std': lambda x: x.map(len).std(),\n",
    "                                                             'com_sum': lambda x: x.map(len).sum()})"
   ]
  },
  {
   "cell_type": "markdown",
   "metadata": {
    "deletable": true,
    "editable": true
   },
   "source": [
    "## 2.3 Merge all the features"
   ]
  },
  {
   "cell_type": "code",
   "execution_count": 8,
   "metadata": {
    "collapsed": false,
    "deletable": true,
    "editable": true
   },
   "outputs": [],
   "source": [
    "features = pd.merge(vote_feats,likes_feats,left_index=True,right_index=True,how='outer')\n",
    "features = pd.merge(features,dislikes_feats,left_index=True,right_index=True,how='outer')\n",
    "features = pd.merge(features,coms_feats,left_index=True,right_index=True,how='outer')\n",
    "features = pd.merge(features,users_index.set_index('uid')[['churn','comp_short']],left_index=True,right_index=True,how='left').fillna(0)#fill users with 0 comments\n",
    "features.rename(columns={'comp_short':'comid'},inplace=True)\n",
    "E_features = features.copy()\n",
    "E_features.rename(columns=dict([(x,'E_'+str(x)) for x in E_features.columns]),inplace=True)\n"
   ]
  },
  {
   "cell_type": "code",
   "execution_count": null,
   "metadata": {
    "collapsed": false,
    "deletable": true,
    "editable": true
   },
   "outputs": [],
   "source": []
  },
  {
   "cell_type": "code",
   "execution_count": null,
   "metadata": {
    "collapsed": true
   },
   "outputs": [],
   "source": []
  }
 ],
 "metadata": {
  "anaconda-cloud": {},
  "kernelspec": {
   "display_name": "Python [conda root]",
   "language": "python",
   "name": "conda-root-py"
  },
  "language_info": {
   "codemirror_mode": {
    "name": "ipython",
    "version": 3
   },
   "file_extension": ".py",
   "mimetype": "text/x-python",
   "name": "python",
   "nbconvert_exporter": "python",
   "pygments_lexer": "ipython3",
   "version": "3.5.3"
  }
 },
 "nbformat": 4,
 "nbformat_minor": 2
}
